{
 "cells": [
  {
   "cell_type": "markdown",
   "metadata": {
    "tags": []
   },
   "source": [
    "### Instructions"
   ]
  },
  {
   "cell_type": "markdown",
   "metadata": {
    "tags": []
   },
   "source": [
    "When running the notebook the first time, make sure to run all cells before making changes in the notebook. Hit Shift + Enter to run the selected cell or, in the top menu, click on: `Kernel` > `Restart Kernel and Run All Cells...` to rerun the whole notebook. If you make any changes in a cell, rerun that cell.\n",
    "\n",
    "If you make any changes in a coding cell, rerun the notebook by `Run` > `Run Selected Cell and All Below`"
   ]
  },
  {
   "cell_type": "code",
   "execution_count": 1,
   "metadata": {},
   "outputs": [],
   "source": [
    "# Importing libraries and dependencies\n",
    "import sys\n",
    "sys.path.append('python/')\n",
    "import load_galaxies as galdata\n",
    "import components as comp\n",
    "import dataPython as dp\n",
    "import numpy as np\n",
    "import matplotlib.pyplot as plt                # Plotting\n",
    "%matplotlib inline\n",
    "from ipywidgets import interactive, fixed, FloatSlider, HBox, Layout, Button, Label, Output, VBox   # Widget\n",
    "from IPython.display import display, clear_output\n",
    "from IPython.display import Javascript\n",
    "import scipy.stats as stats\n",
    "import warnings\n",
    "warnings.filterwarnings(\"ignore\")              # Ignore warnings"
   ]
  },
  {
   "cell_type": "markdown",
   "metadata": {},
   "source": [
    "# Interactive Widget with Variable Components - Galaxy: NGC 5533"
   ]
  },
  {
   "cell_type": "markdown",
   "metadata": {},
   "source": [
    "In the following activity, you can adjust the ingredients of a galaxy and investigate how the total velocity of stars and gases change. "
   ]
  },
  {
   "cell_type": "markdown",
   "metadata": {},
   "source": [
    "### Measured data points"
   ]
  },
  {
   "cell_type": "markdown",
   "metadata": {},
   "source": [
    "Import the measured data points for the NGC 5533 galaxy. These are measured velocities of stars and gas in the galaxy as a function of radius. The data points were traced from Figure 4. in Noordermeer (2008). "
   ]
  },
  {
   "cell_type": "code",
   "execution_count": 2,
   "metadata": {},
   "outputs": [],
   "source": [
    "data = dp.getXYdata_wXYerr('data/NGC5533/noord-120kpc-datapoints.txt')\n",
    "r_dat = np.asarray(data['xx'])\n",
    "v_dat = np.asarray(data['yy'])\n",
    "v_err0 = np.asarray(data['ex'])\n",
    "v_err1 = np.asarray(data['ey'])"
   ]
  },
  {
   "cell_type": "markdown",
   "metadata": {},
   "source": [
    "### Components"
   ]
  },
  {
   "cell_type": "markdown",
   "metadata": {},
   "source": [
    "The stars and gas in a galaxy can be categorized into components depending on the shape of the distribution. These components are then added in quadrature to calculate the total velocity or the rotation curve of a galaxy. In the case of NGC 5533, we can define a central supermassive black hole, a central bulge, a flat disk, a mostly atomic gas and a dark matter halo component. \n",
    "\n",
    ">__Total velocity__: <br>\n",
    "    \\begin{equation}\n",
    "    v_{total}(r) = \\sqrt{v_{gas}^2 + \\Upsilon _{bulge} v_{bulge}^2 + \\Upsilon _{disk} v_{disk}^2 + v_{halo}^2}\n",
    "    \\end{equation}<br>\n",
    "\n",
    "Lets import the relevant functions or traced curves from the `NGC5533_functions.py` library below:"
   ]
  },
  {
   "cell_type": "code",
   "execution_count": 3,
   "metadata": {},
   "outputs": [],
   "source": [
    "def blackhole(r,Mbh):\n",
    "    return comp.blackhole(r,Mbh)\n",
    "\n",
    "def bulge(r,bpref):\n",
    "    return comp.bulge(r,bpref,'NGC5533')\n",
    "\n",
    "def disk(r,dpref):\n",
    "    return comp.disk(r,dpref,'NGC5533')\n",
    "\n",
    "def gas(r,gpref):\n",
    "    return comp.gas(r,gpref,'NGC5533')\n",
    "\n",
    "def halo(r,rc,rho0):\n",
    "    return comp.halo(r,rc,rho0)\n",
    "\n",
    "# Total velocity containing all components\n",
    "def total_all(r,Mbh,bpref,dpref,gpref,rc,rho0):\n",
    "    total = np.sqrt(blackhole(r,Mbh)**2 \n",
    "                    + bulge(r,bpref)**2 \n",
    "                    + disk(r,dpref)**2\n",
    "                    + gas(r,gpref)**2\n",
    "                    + halo(r,rc,rho0)**2)\n",
    "    return total\n",
    "\n",
    "# Total velocity of baryonic or luminous matter (no dark matter component)\n",
    "def total_bary(r,Mbh,bpref,dpref,gpref):\n",
    "    total = np.sqrt(blackhole(r,Mbh)**2 \n",
    "                    + bulge(r,bpref)**2 \n",
    "                    + disk(r,dpref)**2\n",
    "                    + gas(r,gpref)**2)\n",
    "    return total"
   ]
  },
  {
   "cell_type": "markdown",
   "metadata": {},
   "source": [
    "### Parameters"
   ]
  },
  {
   "cell_type": "markdown",
   "metadata": {},
   "source": [
    "The scaling parameters for each components can be found by fitting the total velocity to the measured data points. Import these fitting parameters for our widget from the _NGC5533\\_fitting.py_ library.  "
   ]
  },
  {
   "cell_type": "code",
   "execution_count": 4,
   "metadata": {},
   "outputs": [],
   "source": [
    "_,bestvals = comp.bestfit(comp.totalvelocity_halo,'NGC5533')\n",
    "\n",
    "best_Mbh = bestvals['Mbh']\n",
    "best_bpref = bestvals['bpref']\n",
    "best_dpref = bestvals['dpref']\n",
    "best_gpref = bestvals['gpref']\n",
    "best_rc = bestvals['rcut']\n",
    "best_rho0 = bestvals['rho0']"
   ]
  },
  {
   "cell_type": "markdown",
   "metadata": {},
   "source": [
    "### Define plotting function and sliders for widget"
   ]
  },
  {
   "cell_type": "markdown",
   "metadata": {},
   "source": [
    "The interactive widget is defined with six adjustable sliders that controls the parameters of each component of a galaxy. "
   ]
  },
  {
   "cell_type": "code",
   "execution_count": 5,
   "metadata": {},
   "outputs": [],
   "source": [
    "# Plotting function\n",
    "def f(Mbh,bpref,dpref,gpref,rc,rho0):\n",
    "        \n",
    "    # Define radius\n",
    "    r = np.linspace(np.min(r_dat),np.max(r_dat),1000)\n",
    "    \n",
    "    # Plot\n",
    "    plt.figure(figsize=(11,7))\n",
    "    plt.xlim(0,np.max(r_dat)+0.2)\n",
    "    plt.ylim(0,np.max(v_dat)+100)\n",
    "    \n",
    "    plt.errorbar(r_dat,v_dat,yerr=v_err1,fmt='bo',label='Data')     # Measured data points\n",
    "    plt.plot(r,blackhole(r,Mbh),label=(\"Central Supermassive Black Hole\"),color='black') # Black hole component\n",
    "    plt.plot(r,bulge(r,bpref),label=(\"Bulge\"),color='orange')       # Bulge component\n",
    "    plt.plot(r,disk(r,dpref),label=(\"Disk\"),color='purple')         # Disk component \n",
    "    plt.plot(r,gas(r,gpref),label=(\"Gas\"),color='blue')             # Gas component\n",
    "    plt.plot(r,halo(r,rc,rho0),label=(\"Halo\"),color='green')        # Dark matter halo component\n",
    "    plt.plot(r,total_all(r,Mbh,bpref,dpref,gpref,rc,rho0),label=(\"Total Curve\"),color='red')    # Total velocity with dark matter\n",
    "    plt.plot(r,total_bary(r,Mbh,bpref,dpref,gpref),label=(\"Luminous Matter\"),linestyle='--')    # Total velocity without dark matter\n",
    "    plt.fill_between(r,galdata.NGC5533['n_band_btm'](r),galdata.NGC5533['n_band_top'](r),color='#dddddd',label=\"Confidence Band\")    # Confidence band\n",
    "    plt.title(\"Interactive Rotation Curve - Galaxy: NGC 5533\",fontsize=16)\n",
    "    plt.xlabel(\"Radius (kpc)\")\n",
    "    plt.ylabel(\"Velocity (km/s)\")\n",
    "    plt.legend(bbox_to_anchor=(1,1), loc=\"upper left\")              # Put legend outside of the plot\n",
    "    \n",
    "    # Chi squared and reduced chi squared\n",
    "    # Residuals\n",
    "    residuals = v_dat - total_all(r_dat,Mbh,bpref,dpref,gpref,rc,rho0)\n",
    "    # Error\n",
    "    error = np.sqrt(v_err1**2 + galdata.NGC5533['n_v_bandwidth']**2)\n",
    "    # Chi squared\n",
    "    chisquared = np.sum(residuals**2/error**2)\n",
    "    # Degrees of freedom\n",
    "    dof = len(r_dat) - 6                 # number of degrees of freedom = number of observed data - number of fitting parameters\n",
    "    # Reduced chi squared\n",
    "    reducedchisquared = chisquared / dof \n",
    "    \n",
    "    # Annotation\n",
    "    props = dict(boxstyle='round', facecolor='white', alpha=0.5)\n",
    "    plt.text(80,373,r\"$\\chi^2$: {:.5f}\".format(chisquared)+'\\n'+r\"Reduced $\\chi^2$: {:.5f}\".format(reducedchisquared),bbox=props,size=10)\n",
    "    props = dict(boxstyle='round', facecolor='white', alpha=0.5)\n",
    "    plt.annotate('Data source: E. Noordermeer. The rotation curves of flattened Sérsic bulges. MNRAS,385(3):1359–1364, Apr 2008',\n",
    "            xy=(0, 0), xytext=(0,5),\n",
    "            xycoords=('axes fraction', 'figure fraction'),\n",
    "            textcoords='offset points',\n",
    "            size=10, ha='left', va='bottom')\n",
    "    \n",
    "    plt.show()"
   ]
  },
  {
   "cell_type": "code",
   "execution_count": 6,
   "metadata": {},
   "outputs": [],
   "source": [
    "# Widget appearance \n",
    "style = {'description_width': 'initial'}\n",
    "layout = {'width':'600px'}\n",
    "\n",
    "# Define widget sliders\n",
    "# Mass of central supermassive black hole\n",
    "Mbh = FloatSlider(min=0, max=5e9, step=1e8, \n",
    "                value=best_Mbh, \n",
    "                description='Black Hole Mass [$M_{\\odot}$]', \n",
    "                readout_format='.2e', \n",
    "                orientation='horizontal', \n",
    "                style=style, layout=layout)\n",
    "\n",
    "# Bulge prefactor (multiplier)\n",
    "bpref = FloatSlider(min=0, max=5, step=0.1, \n",
    "                    value=round(best_bpref,1), \n",
    "                    description='Bulge Prefactor', \n",
    "                    readout_format='.2f', \n",
    "                    orientation='horizontal', \n",
    "                    style=style, layout=layout)\n",
    "\n",
    "# Disk prefactor (multiplier)\n",
    "dpref = FloatSlider(min=0, max=5, step=0.1, \n",
    "                    value=round(best_dpref,1), \n",
    "                    description='Disk Prefactor', \n",
    "                    readout_format='.2f', \n",
    "                    orientation='horizontal', \n",
    "                    style=style, layout=layout)\n",
    "\n",
    "# Gas prefactor (multiplier)\n",
    "gpref = FloatSlider(min=0, max=5, step=0.1, \n",
    "                    value=round(best_gpref,1), \n",
    "                    description='Gas Prefactor', \n",
    "                    readout_format='.2f', \n",
    "                    orientation='horizontal', \n",
    "                    style=style, layout=layout)\n",
    "\n",
    "# Core radius of dark matter halo\n",
    "rc = FloatSlider(min=0, max=5, step=0.1, \n",
    "                 value=round(best_rc,1), \n",
    "                 description='Halo Core Radius [kpc]', \n",
    "                 readout_format='.2f', \n",
    "                 orientation='horizontal', \n",
    "                 style=style, layout=layout)\n",
    "#rc = fixed(best_rc)      # If we need the core radius to be fixed\n",
    "\n",
    "# Central mass density of dark matter halo\n",
    "rho0 = FloatSlider(min=0, max=1e9, step=1e7, \n",
    "                    value=best_rho0, \n",
    "                    description=r'Halo Central Mass Density [$M_{\\odot} / kpc^3$]', \n",
    "                    readout_format='.2e', \n",
    "                    orientation='horizontal', \n",
    "                    style=style, layout=layout)\n",
    "\n",
    "# Interactive widget\n",
    "def interactive_plot(f):\n",
    "    interact = interactive(f, Mbh = Mbh, \n",
    "                           bpref = bpref, \n",
    "                           dpref = dpref, \n",
    "                           gpref = gpref,\n",
    "                           rc = rc,\n",
    "                           rho0 = rho0,\n",
    "                           continuous_update=False)\n",
    "    return interact\n",
    "\n",
    "# Button to revert back to Best Fit\n",
    "button = Button(\n",
    "    description=\"Best Fit\",\n",
    "    button_style='warning',\n",
    "    icon='check')\n",
    "out = Output()\n",
    "\n",
    "# Define what happens when we click on the \"Best Fit\" button\n",
    "def on_button_clicked(_):\n",
    "    Mbh.value = best_Mbh\n",
    "    bpref.value = round(best_bpref,1)\n",
    "    dpref.value = round(best_dpref,1)\n",
    "    gpref.value = round(best_gpref,1)\n",
    "    rc.value = round(best_rc,1)\n",
    "    rho0.value = best_rho0\n",
    "\n",
    "button.on_click(on_button_clicked)"
   ]
  },
  {
   "cell_type": "markdown",
   "metadata": {},
   "source": [
    "Using the sliders below, answer the following questions: \n",
    "\n",
    "<div class=\"alert-info\">Activity 1)</div>\n",
    "\n",
    ">Can you get the Reduced $\\chi^2$ close to zero?\n",
    "\n",
    "<div class=\"alert-info\">Activity 2)</div>\n",
    "\n",
    ">Can you get the Reduced $\\chi^2$ close to one?\n",
    "\n",
    "<div class=\"alert-info\">Activity 3)</div>\n",
    "\n",
    ">Remove the Dark Matter by changing both Dark Matter parameters (halo core radius and halo central mass density) to zero using the sliders. Are you able to scale the other components (central black hole, bulge, disk, gas) to have the total curve aligned with the measured data points (Reduced $\\chi^2$ close to one)?"
   ]
  },
  {
   "cell_type": "markdown",
   "metadata": {},
   "source": [
    "In a strictly statistical sense, a Reduced $\\chi^2$ of zero represents a perfect fit. However, a Reduced $\\chi^2$ much less than 1 often indicates that more parameters were used than represented by the physical system. We would be simply connecting the measured data points. <br>\n",
    "In general, the gas component of a galaxy can be measured with great accuracy. It is made of mostly atomic gas. In most cases, the measured gas component is multiplied by 1.33 to account for helium. In spite of that, the gas component can also be adjusted in this widget. Here, we allow you to scale each component as you please. See how 'good' of a fit you can get!"
   ]
  },
  {
   "cell_type": "code",
   "execution_count": 7,
   "metadata": {},
   "outputs": [
    {
     "data": {
      "application/vnd.jupyter.widget-view+json": {
       "model_id": "9ca6da25e7154bfcb802d76bfbeb4791",
       "version_major": 2,
       "version_minor": 0
      },
      "text/plain": [
       "VBox(children=(Button(button_style='warning', description='Best Fit', icon='check', style=ButtonStyle()), Outp…"
      ]
     },
     "metadata": {},
     "output_type": "display_data"
    }
   ],
   "source": [
    "#NBVAL_IGNORE_OUTPUT\n",
    "#Because the figure doesn't save to the repository correctly.\n",
    "# Widget\n",
    "VBox([button,out,interactive_plot(f)])"
   ]
  },
  {
   "cell_type": "markdown",
   "metadata": {},
   "source": [
    "### Slider key"
   ]
  },
  {
   "cell_type": "markdown",
   "metadata": {},
   "source": [
    "The prefactor for the **black hole** is the square root of its mass. \n",
    "Because it is more physically meaningful and not computationally intensive, we have you control the mass of the black hole rather than the prefactor itself.\n",
    "The units of the black hole's mass are solar masses (multiply the value by the mass of our Sun. Note that 'e+9' equates to a billion--that's a billion solar masses!).\n",
    "\n",
    "The prefactors for the **bulge** and the **disk** relate to the mass-to-light ratio.\n",
    "A prefactor of one means that you are using the M/L we generally expect from stars. Increasing the prefactor means increasing the expected mass for a given amount of light. \n",
    "\n",
    "The halo central mass density behaves as a prefactor for the **Dark Matter \"halo\"** in and around the galaxy. \n",
    "Its units are solar masses per cubic kiloparsec and, in this fit, is on the scale of hundreds of millions.\n",
    "This represents how much Dark Matter we think there is overall in the center of a galaxy. \n",
    "\n",
    "The **gas** prefactor is similar to the bulge and disk prefactors. \n",
    "Rather than being for a stellar M/L, it represents the amount of radiation emitted by interstellar gas. \n",
    "A value of 1 means using the expected amount of radiation. Increasing the prefactor means increasing the expected mass for a given amount of radiation (note that this is why the gas component is kept static during fitting, as increasing or decreasing the gas prefactor would be digressing from the known physical laws of H1 emissions)."
   ]
  },
  {
   "cell_type": "markdown",
   "metadata": {},
   "source": [
    "### References: "
   ]
  },
  {
   "cell_type": "markdown",
   "metadata": {},
   "source": [
    ">Jimenez, Raul, Licia Verde, and S. Peng Oh. **Dark halo properties from rotation curves.** _Monthly Notices of the Royal Astronomical Society_ 339, no. 1 (2003): 243-259. https://doi.org/10.1046/j.1365-8711.2003.06165.x. <br><br>\n",
    ">Noordermeer, E., &amp; Van Der Hulst, J. M. (2007). **The stellar mass distribution in early-type disc galaxies: Surface Photometry and bulge–disc decompositions.** Monthly Notices of the Royal Astronomical Society, 376(4), 1480–1512. https://doi.org/10.1111/j.1365-2966.2007.11532.x <br><br>\n",
    ">Noordermeer, E. (2008), **The rotation curves of flattened Sérsic bulges**. Monthly Notices of the Royal Astronomical Society, 385: 1359-1364. https://doi.org/10.1111/j.1365-2966.2008.12837.x <br><br>\n",
    ">Taylor, John Robert. __An Introduction to Error Analysis: The Study of Uncertainties in Physical Measurements.__ 2nd ed. United States of America: University Science Books, 1997."
   ]
  }
 ],
 "metadata": {
  "kernelspec": {
   "display_name": "Python 3 (ipykernel)",
   "language": "python",
   "name": "python3"
  },
  "language_info": {
   "codemirror_mode": {
    "name": "ipython",
    "version": 3
   },
   "file_extension": ".py",
   "mimetype": "text/x-python",
   "name": "python",
   "nbconvert_exporter": "python",
   "pygments_lexer": "ipython3",
   "version": "3.7.9"
  }
 },
 "nbformat": 4,
 "nbformat_minor": 4
}
