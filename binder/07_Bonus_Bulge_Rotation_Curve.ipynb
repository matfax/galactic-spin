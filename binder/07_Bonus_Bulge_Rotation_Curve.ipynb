{
 "cells": [
  {
   "cell_type": "markdown",
   "metadata": {
    "tags": []
   },
   "source": [
    "### Instructions"
   ]
  },
  {
   "cell_type": "markdown",
   "metadata": {
    "tags": []
   },
   "source": [
    "When running the notebook the first time, make sure to run all cells before making changes in the notebook. Hit Shift + Enter to run the selected cell or, in the top menu, click on: `Kernel` > `Restart Kernel and Run All Cells...` to rerun the whole notebook. If you make any changes in a cell, rerun that cell.\n",
    "\n",
    "If you make any changes in a coding cell, rerun the notebook by `Run` > `Run Selected Cell and All Below`"
   ]
  },
  {
   "cell_type": "code",
   "execution_count": 1,
   "metadata": {},
   "outputs": [],
   "source": [
    "# Importing Python libraries and dependencies for our calculations\n",
    "import warnings\n",
    "warnings.simplefilter(action='ignore', category=FutureWarning)      # Ignore warnings\n",
    "warnings.simplefilter(action='ignore', category=UserWarning)        # Ignore warnings\n",
    "import time                              # Timing the runtime of the notebook\n",
    "startTime = time.time()\n",
    "import matplotlib.image as mpimg         # Matplotlib library for displaying images\n",
    "from matplotlib import pyplot as plt     # Matplotlib library for plotting\n",
    "import numpy as np                       # Numpy library for basic calculations\n",
    "import scipy.integrate as si             # For integration\n",
    "import scipy.optimize as so              # For finding the root of the gamma function\n",
    "import scipy.special as ss               # For the gamma function\n",
    "import sys;\n",
    "sys.path.append('python/');\n",
    "import components as comp"
   ]
  },
  {
   "cell_type": "markdown",
   "metadata": {},
   "source": [
    "# Bulge Rotation Curve"
   ]
  },
  {
   "cell_type": "markdown",
   "metadata": {},
   "source": [
    "![A poster, reading: CHOOSE: EMPIRICAL OR THEORETICAL? Astrophysicists have developed models of the 'galactic bulge', the bright central component of spiral galaxies. Some of these models depend on empirical data sets as input, while more theoretical models only require empirically-derived parameters as input. Empirically-based models can be more accurate, however, purely-mathematical models can help us extrapolate, understand, and extend our knowledge beyond what can only be directly observed. When making your own bulge component, you'll get to choose your path: empirical or theoretical rotation curve models. CHOOSE: WHICH GALAXY? (End text) At the bottom of the poster, there are three labeled galaxy images. The first: NGC 5533, Constellation: BOOTES, DISTANCE: 177 MLY, SIZE: 50,000 LY. The second: NGC 891, CONSTELLATION: CAMELOPARDALIS, DISTANCE: 27.3 MLY, SIZE: 120,000 LY. The last: NGC 7814, CONSTELLATION: PEGASUS, DISTANCE: 40 MLY, SIZE: 80,000 LY.](images/bulge.png)"
   ]
  },
  {
   "cell_type": "code",
   "execution_count": 2,
   "metadata": {
    "tags": [
     "parameters"
    ]
   },
   "outputs": [],
   "source": [
    "galaxy = \"NGC891\"         # Change this value to select a galaxy out of the 3 choices: NGC5533, NGC891, NGC7814"
   ]
  },
  {
   "cell_type": "code",
   "execution_count": 3,
   "metadata": {},
   "outputs": [],
   "source": [
    "b = comp.galdict(galaxy)"
   ]
  },
  {
   "cell_type": "markdown",
   "metadata": {},
   "source": [
    "After choosing a galaxy, restart the notebook by selecting `Kernel` > `Restart Kernel and Run All Cells` in the top bar. "
   ]
  },
  {
   "cell_type": "markdown",
   "metadata": {
    "tags": []
   },
   "source": [
    "### Introduction"
   ]
  },
  {
   "cell_type": "markdown",
   "metadata": {},
   "source": [
    "__What is a bulge?__ \n",
    "<br>A bulge is the bright central part of a spiral galaxy. In shape, bulges are ellipsoidal (spherically squished, to be scientific) and dense with stars, containing most of a spiral galaxy's visible matter."
   ]
  },
  {
   "cell_type": "markdown",
   "metadata": {},
   "source": [
    "### Equations"
   ]
  },
  {
   "cell_type": "markdown",
   "metadata": {},
   "source": [
    "Calculate the rotational velocity due to stars in the bulge using the empirically derived bulge parameters.\n",
    "\n",
    ">__Gamma function__: <br>\n",
    "    \\begin{equation}\n",
    "    \\gamma(b_n,2n) = \\frac{1}{2} \\Gamma(2n)\n",
    "    \\end{equation}<br>\n",
    "    \\begin{equation}\n",
    "    r_e = b_n^n r_0 b_n \n",
    "    \\end{equation}<br>\n",
    ">__Luminosity in terms of central surface brightness__: <br>\n",
    "    \\begin{equation}\n",
    "    I_0 = L_b \\frac{(b_n)^{2n}}{2\\pi n \\ r^2_e \\ \\Gamma(2n)}\n",
    "    \\end{equation}<br>\n",
    "    <br>\n",
    ">where:<br>\n",
    "        $I_0$ = central surface brightness<br>\n",
    "        $L_b$ = luminosity of bulge <br>\n",
    "        $n$ = concentration parameter<br> \n",
    "        $r_0$ = characteristic radius (related to $r_e$)<br>\n",
    "        $r_e$ = effective radius<br>\n",
    "        \n",
    ">__Rotational Velocity__: <br>\n",
    "    <font color=\"green\">\n",
    "    \\begin{equation}\n",
    "V_{B}^{2}(r) = C \\int_{m=0}^{r} \\left[\\int_{\\kappa=m}^{\\infty} \\frac {e^{-\\left(\\frac{\\kappa}{r_0}\\right)^{\\frac{1}{n}}} \\left(\\frac{\\kappa}{r_0}\\right)^{\\frac{1}{n}-1}} {\\sqrt{\\kappa^2-m^2}} d\\kappa\\right] \\times \\frac{m^{2}}{\\sqrt{r^{2}-m^{2}e^{2}}} dm\n",
    "    \\end{equation}<br></font>\n",
    ">where:<br>\n",
    "    \\begin{equation}\n",
    "    C = \\frac{4Gq\\Upsilon_b I_0}{r_0n} \\sqrt{sin^{2}i + \\frac{1}{q^{2}} cos^{2}i}\n",
    "    \\end{equation}<br>\n",
    "    \\begin{equation}\n",
    "    e = \\sqrt{1-q^{2}}\n",
    "    \\end{equation}<br> \n",
    "        $\\Upsilon_b$ = mass-to-light ratio<br>\n",
    "        $e$ = eccentricity of the bulge<br>\n",
    "        $q$ = intrinsic axis ratio<br> \n",
    "        $i$ = inclination angle<br> \n",
    "        $G$ = gravitational constant<br>"
   ]
  },
  {
   "cell_type": "markdown",
   "metadata": {},
   "source": [
    "### Definitions of necessary bulge parameters"
   ]
  },
  {
   "cell_type": "markdown",
   "metadata": {},
   "source": [
    "<b>Concentration parameter ($n$)</b> [unitless]: also known as the bulge Sersic parameter _\"describes the curvature of the profile in a radius-magnitude plot\"_ (Noordermeer 2008). <br>\n",
    "\n",
    "<b>Intrinsic axis ratio ($q$)</b> [unitless]: _\"q [is] the intrinsic axis ratio of the bulge isodensity surfaces\"_ (Noordermeer 2008). This parameter describes how flat a galaxy appears. The eccentricity of the galaxy can be calculated using this parameter: $e$ = $\\sqrt{1 - q^{2}}$.\n",
    "<br>\n",
    "\n",
    "<b>Inclination angle ($i$)</b> [degrees]: the angle of the galaxy from the horizontal. \n",
    "\n",
    "<b>Effective radius ($r_e$)</b> [kpc]: _\"the radius which encompasses 50 percent of the light\"_ within the bulge (Noordermeer 2008).<br>\n",
    "\n",
    "<b>Luminosity ($L_b$)</b> [Lsun]: Total galactic luminosity of the bulge of the galaxy, in units of solar luminosity.<br>\n",
    "\n",
    "<b>Mass-to-light ratio ($\\Upsilon_b$)</b> [unitless]: the ratio of how much mass there is compared to how much it is visible. \n",
    "\n",
    "<b>Distance ($D$)</b> [Mpc]: the distance to the galaxy is useful when converting angular size to actual size. "
   ]
  },
  {
   "cell_type": "markdown",
   "metadata": {},
   "source": [
    "### Literature search"
   ]
  },
  {
   "cell_type": "markdown",
   "metadata": {},
   "source": [
    "There are **five parameters** you will need to find to calculate the velocity of the bulge of your chosen galaxy: concentration parameter ($n$), intrinsic axis ratio ($q$), inclination angle ($i$), effective radius ($r_e$), luminosity of the bulge ($L_b$). In addition, you may also need to find the distance to the galaxy ($D$)."
   ]
  },
  {
   "cell_type": "markdown",
   "metadata": {},
   "source": [
    "<div class=\"alert-info\">Activity 1)</div>\n",
    "\n",
    ">Do some research to find these parameters for any of the three galaxies (NGC 5533, NGC 891, NGC 7814) of your choice. This activity is intended to give you a glimpse into scholarly literature search. One place to start is by searching for your chosen galaxy at https://ui.adsabs.harvard.edu. You can also choose an entirely different galaxy and calculate the velocity of stars in its bulge. Make sure to have the right units for each parameter."
   ]
  },
  {
   "cell_type": "markdown",
   "metadata": {},
   "source": [
    "#### Concentration parameter [unitless]"
   ]
  },
  {
   "cell_type": "code",
   "execution_count": 4,
   "metadata": {},
   "outputs": [],
   "source": [
    "#n = ?\n",
    "n = b['bulge']['n']          # Import"
   ]
  },
  {
   "cell_type": "markdown",
   "metadata": {},
   "source": [
    "#### Intrinsic axis ratio [unitless]"
   ]
  },
  {
   "cell_type": "code",
   "execution_count": 5,
   "metadata": {},
   "outputs": [],
   "source": [
    "#q = ?\n",
    "q = b['bulge']['q']"
   ]
  },
  {
   "cell_type": "markdown",
   "metadata": {},
   "source": [
    "#### Inclination angle [degrees]"
   ]
  },
  {
   "cell_type": "markdown",
   "metadata": {},
   "source": [
    "Inclination angle is usually given in degrees. We need to convert this to radians. "
   ]
  },
  {
   "cell_type": "code",
   "execution_count": 6,
   "metadata": {},
   "outputs": [],
   "source": [
    "#i_degrees = ?\n",
    "i_degrees = b['i']\n",
    "\n",
    "# Equation to convert degrees to radians\n",
    "i_rad = i_degrees * (np.pi/180)"
   ]
  },
  {
   "cell_type": "markdown",
   "metadata": {},
   "source": [
    "#### Effective radius [kpc]"
   ]
  },
  {
   "cell_type": "code",
   "execution_count": 7,
   "metadata": {},
   "outputs": [],
   "source": [
    "#re_kpc = ?\n",
    "re_kpc = b['bulge']['re_kpc']"
   ]
  },
  {
   "cell_type": "markdown",
   "metadata": {},
   "source": [
    "The effective radius might be given in units of arcseconds. Arcsecond is a unit of an angle of how large something appears in the sky. In this case, you can use trigonometry to calculate the actual size. For this computation, find the distance to your galaxy to be able to convert from arcseconds to kiloparsec. <br>\n",
    "If the effective radius is already in the right units (in kpc), comment out the next `Code` cell. \n",
    "\n",
    "Using a right triangle and a small angle approximation, convert arcseconds to kpc in the following way:\n",
    "\n",
    ">__Getting the right units__: <br>\n",
    "    \\begin{equation}\n",
    "    1 \\rm \\ arcsec = \\frac{1^\\circ}{3600} = \\frac{\\pi}{180^\\circ} \\times \\frac{1^\\circ}{3600} = \\frac{\\pi}{648000} \\ radians\n",
    "    \\end{equation}\n",
    "     <br>\n",
    "    \\begin{equation}\n",
    "    1 \\rm \\ Mpc = 1000 \\rm \\ kpc\n",
    "    \\end{equation} <br>\n",
    ">__Arcsec to kpc__: <br>\n",
    "    \\begin{equation}\n",
    "    \\tan (\\theta) \\approx \\theta \\approx \\frac{S}{D}\n",
    "    \\end{equation} \n",
    "    <br>\n",
    "    \\begin{equation}\n",
    "    S \\rm \\ (in \\ kpc) \\approx \\theta \\ (in \\ rad) \\times D \\ (in \\ kpc)\n",
    "    \\end{equation}\n",
    "    <br>\n",
    "where:<br>\n",
    "        $\\theta$ = angle the object appears in the sky<br>\n",
    "        $S$ = actual size of the object<br> \n",
    "        $D$ = distance to the object<br>"
   ]
  },
  {
   "cell_type": "code",
   "execution_count": 8,
   "metadata": {},
   "outputs": [
    {
     "name": "stdout",
     "output_type": "stream",
     "text": [
      "The effective radius of NGC891 is 1.80 kpc\n"
     ]
    }
   ],
   "source": [
    "### Converting the effective radius in arcsec to kpc (if needed). \n",
    "### If the conversion is not needed, comment out this section.\n",
    "\n",
    "try:\n",
    "    # Parameters found\n",
    "    #re_arcsec = ?\n",
    "    #D_Mpc = ?\n",
    "    re_arcsec = b['bulge']['re_arcsec']\n",
    "    D_Mpc = b['D_Mpc']\n",
    "\n",
    "    re_rad = re_arcsec * (np.pi / (3600 * 180))      # arcsec to radians\n",
    "    D_kpc = D_Mpc * 1000                             # Mpc to kpc\n",
    "    re_kpc = re_rad * D_kpc           \n",
    "\n",
    "    # Print value\n",
    "except KeyError:\n",
    "    re_kpc = b['bulge']['re_kpc']\n",
    "print('The effective radius of ' + galaxy + ' is '+\"{:.2f}\".format(re_kpc)+' kpc')"
   ]
  },
  {
   "cell_type": "markdown",
   "metadata": {},
   "source": [
    "#### Luminosity of the bulge"
   ]
  },
  {
   "cell_type": "code",
   "execution_count": 9,
   "metadata": {},
   "outputs": [],
   "source": [
    "#L = ?\n",
    "Lb = b['bulge']['Lb']"
   ]
  },
  {
   "cell_type": "markdown",
   "metadata": {},
   "source": [
    "In some cases, it is easier to find the absolute magnitude of the bulge rather than the luminosity. For example: The (R-band) absolute magnitude of the bulge ($M_b$) for NGC 5533 is listed in Source #2 (Noordermeer and Van Der Hulst, 2007), in Table A4 (Appendix) as -21.66.\n",
    "\n",
    "Using the zero-point luminosity equation, calculate the luminosity of the bulge (in Watts):\n",
    "\n",
    ">__Total luminosity of the bulge__: <br>\n",
    "    \\begin{equation}\n",
    "    L_b = L_0 \\times 10^{-0.4 M_b}\n",
    "    \\end{equation}\n",
    "    <br>\n",
    ">where:<br>\n",
    "        $L_0 = 3.0128 \\times 10^{28} W$ = zero-point luminosity<br>"
   ]
  },
  {
   "cell_type": "code",
   "execution_count": 10,
   "metadata": {},
   "outputs": [],
   "source": [
    "#Mabs = ?\n",
    "Mabs = b['Mabs']"
   ]
  },
  {
   "cell_type": "code",
   "execution_count": 11,
   "metadata": {},
   "outputs": [
    {
     "name": "stdout",
     "output_type": "stream",
     "text": [
      "The total luminosity of the bulge is 3.621e+10 Lsun.\n"
     ]
    }
   ],
   "source": [
    "### Converting absolute magnitude to luminosity (if needed). \n",
    "### If the conversion is not needed, comment out this section.\n",
    "\n",
    "# Zero point luminosity in Watts\n",
    "L0 = 3.0128e28 \n",
    "\n",
    "# Solar luminosity in Watts\n",
    "Lsun = 3.838e26         \n",
    "\n",
    "# Equation to find the luminosity in Watts\n",
    "L_Watts = L0 * 10**(-0.4 * Mabs)\n",
    "\n",
    "# Convert Watts to Solar luminosity (assuming the solar luminosity is a constant)\n",
    "# Convert units (Watts to Lsun)\n",
    "Lb = L_Watts / Lsun\n",
    "\n",
    "print(\"The total luminosity of the bulge is {:.3e} Lsun.\".format(Lb))"
   ]
  },
  {
   "cell_type": "markdown",
   "metadata": {},
   "source": [
    "#### Mass-to-light ratio"
   ]
  },
  {
   "cell_type": "markdown",
   "metadata": {},
   "source": [
    "For simplicity, we are assuming a mass-to-light ratio of 1. However, this value can be found by fitting the total curve (that contains the bulge curve) to the measured values. You may also find this value during your literature search."
   ]
  },
  {
   "cell_type": "code",
   "execution_count": 12,
   "metadata": {},
   "outputs": [],
   "source": [
    "ML = 1        # Mass-to-light ratio of bulge [unitless] "
   ]
  },
  {
   "cell_type": "markdown",
   "metadata": {},
   "source": [
    "### Calculation"
   ]
  },
  {
   "cell_type": "markdown",
   "metadata": {},
   "source": [
    "Calculate the velocity of the bulge using the equations discussed above. "
   ]
  },
  {
   "cell_type": "code",
   "execution_count": 13,
   "metadata": {},
   "outputs": [],
   "source": [
    "def v_bulge(r,L=Lb,re=re_kpc,n=n,q=q,i=i_rad,ML=ML):\n",
    "    \n",
    "    # Constant\n",
    "    G = 4.300e-6       # Gravitational constant, [kpc*(km/s)**2/Msun]\n",
    "    \n",
    "    # Gamma function\n",
    "    gammafunction = lambda x: ss.gammainc(2*n,x) * ss.gamma(2*n) - 0.5 * ss.gamma(2*n)\n",
    "    bn = so.brentq(gammafunction,0,500000,\n",
    "                 rtol=0.000001,maxiter=100)  # Comes within 1% of exact root within 100 iterations\n",
    "    \n",
    "    # Calculating I0\n",
    "    I0 = L * bn**(2*n) / (2 * np.pi * n * re**2 * ss.gamma(2*n))    # Central surface brightness \n",
    "    \n",
    "    # Calculating r0\n",
    "    r0 = re / (bn**n)                                               # Characteristic radius (in kpc)\n",
    "\n",
    "    # Integrand 1\n",
    "    integrand1 = lambda x,m: np.exp(-np.power(x/r0,(1/n))) * np.power(x/r0,(1/n)-1) / (np.sqrt(x**2 - m**2))\n",
    "    \n",
    "    # Integrate integrand 1\n",
    "    f_integrate1 = lambda m: si.quad(integrand1, m, np.inf, args=(m,))[0]\n",
    "    f_vect1 = np.vectorize(f_integrate1)\n",
    "    \n",
    "    # Define C (constant)\n",
    "    C = ((4 * G * q * ML * I0) / (r0 * n)) * (np.sqrt((np.sin(i_rad)**2) + (1/(q**2)) * (np.cos(i_rad)**2)))\n",
    "    \n",
    "    # Define eccentricity\n",
    "    eccentricity = np.sqrt(1 - (q**2))  \n",
    "    \n",
    "    # Integrand 2\n",
    "    f_integrate2 = lambda m,r: C * f_integrate1(m) * (m**2) / (np.sqrt((r**2) - ((m**2)*(eccentricity**2))))\n",
    "    \n",
    "    # Integrate outer function to get velocity squared\n",
    "    vsq = lambda r: si.quad(f_integrate2, 0, r, args=(r,))[0]\n",
    "    vsqv = np.vectorize(vsq)\n",
    "\n",
    "    # Calculate velocity\n",
    "    velocity = lambda r: np.sqrt(vsqv(r))\n",
    "    \n",
    "    return velocity(r)"
   ]
  },
  {
   "cell_type": "code",
   "execution_count": 14,
   "metadata": {},
   "outputs": [],
   "source": [
    "# Define radius for plot\n",
    "radius = np.linspace(0.01,20,100)"
   ]
  },
  {
   "cell_type": "markdown",
   "metadata": {},
   "source": [
    "### Plot the velocity curve for the bulge"
   ]
  },
  {
   "cell_type": "markdown",
   "metadata": {},
   "source": [
    "Note that this cell will probably take a few minutes to run. Please be patient."
   ]
  },
  {
   "cell_type": "code",
   "execution_count": 15,
   "metadata": {},
   "outputs": [
    {
     "data": {
      "image/png": "[encoded data removed]",
      "text/plain": [
       "<Figure size 792x576 with 1 Axes>"
      ]
     },
     "metadata": {
      "needs_background": "light"
     },
     "output_type": "display_data"
    }
   ],
   "source": [
    "plt.figure(figsize=(11,8),dpi=100)                                  # Size of the plot\n",
    "plt.plot(radius, v_bulge(radius), linestyle='solid')                # x and y values of the plot          \n",
    "plt.title(str('Bulge Rotation Curve of ' + galaxy), fontsize=18)    # Title of the plot\n",
    "plt.xlabel('Radius (kpc)', fontsize=14)                             # Labeling the x-axis\n",
    "plt.ylabel('Velocity (km/s)', fontsize=14)                          # Labeling the y-axis\n",
    "plt.ylim(0,350)                                                     # Changing the limit of the y-axis   \n",
    "plt.show()"
   ]
  },
  {
   "cell_type": "markdown",
   "metadata": {},
   "source": [
    "<div class=\"alert-info\">Question 1)</div>\n",
    "\n",
    ">Does the bulge have any effect on the rotation of the stars at 15 kpc?\n",
    "\n",
    "<div class=\"alert-info\">Question 2)</div>\n",
    "\n",
    ">What effect does decreasing the concentration parameter, $n$, have on the rotation curve?\n",
    "\n",
    "<div class=\"alert-info\">Question 3)</div>\n",
    "\n",
    ">How does the amplitude of the curve changes when increasing the mass-to-light ratio (ML or $\\Upsilon_b$) of the bulge?"
   ]
  },
  {
   "cell_type": "markdown",
   "metadata": {},
   "source": [
    "### References"
   ]
  },
  {
   "cell_type": "markdown",
   "metadata": {},
   "source": [
    ">1. Noordermeer, Edo (October 22, 2008). **The Rotation Curves of Flattened Sérsic Bulges.** _Monthly Notices of the Royal Astronomical Society_ 385, no. 3: 1359–64. https://doi.org/10.1111/j.1365-2966.2008.12837.x. <br><br>\n",
    ">2. Noordermeer, E., and J. M. Van Der Hulst. **The Stellar Mass Distribution in Early-Type Disc Galaxies: Surface Photometry and Bulge–Disc Decompositions.** _Monthly Notices of the Royal Astronomical Society_ 376, no. 4 (April 2007): 1480–1512. https://doi.org/10.1111/j.1365-2966.2007.11532.x. <br><br>\n",
    ">3. Fraternali F, Sancisi R, Kamphuis P. **A tale of two galaxies: light and mass in NGC 891 and NGC 7814.** _Astronomy & Astrophysics_. 2011;531:A64. https://doi:10.1051/0004-6361/201116634. <br><br>\n",
    ">4. Mamajek, E. E. et al. (October, 2015) **IAU 2015 Resolution B2 on Recommended Zero Points for the Absolute and Apparent Bolometric Magnitude Scales.** eprint arXiv:1510.06262. https://ui.adsabs.harvard.edu/abs/2015arXiv151006262M/abstract <br><br>\n",
    ">5. Carroll, B. W.; Ostlie, D. A. (2006). **An Introduction to Modern Astrophysics (2nd ed.).** Pearson. pp. 60–62. ISBN 978-0-321-44284-0. <br><br>\n",
    ">6. Graham, A. W. (2001). **An investigation into the prominence of spiral galaxy bulges.** The Astronomical Journal, 121(2), 820–840. https://doi.org/10.1086/318767 "
   ]
  },
  {
   "cell_type": "code",
   "execution_count": 16,
   "metadata": {},
   "outputs": [
    {
     "name": "stdout",
     "output_type": "stream",
     "text": [
      "Execution time: 110.00 seconds\n"
     ]
    }
   ],
   "source": [
    "#NBVAL_IGNORE_OUTPUT\n",
    "#Because the timing won't be exactly the same each time.\n",
    "executionTime = (time.time() - startTime)\n",
    "print(f'Execution time: {executionTime:.2f} seconds')"
   ]
  },
  {
   "cell_type": "markdown",
   "metadata": {},
   "source": [
    "### Literature search check"
   ]
  },
  {
   "cell_type": "markdown",
   "metadata": {},
   "source": [
    "Did you research and locate the parameter values for your chosen galaxy? Click the 'Reveal!' button below to check your work! The results appear in the `Log Console` (select `View`--> `Show Log Console`). If you got any values wrong, you could refer to the citation by each value to see exactly which paper and table the value can be found in. "
   ]
  },
  {
   "cell_type": "code",
   "execution_count": 17,
   "metadata": {},
   "outputs": [],
   "source": [
    "from IPython.display import display\n",
    "import ipywidgets as widgets\n",
    "\n",
    "button = widgets.Button(description=\"Reveal!\")\n",
    "output = widgets.Output()\n",
    "def on_button_clicked(x):\n",
    "    with output:\n",
    "        output.clear_output()\n",
    "        print(str('Galaxy '+ galaxy +':'))\n",
    "        try:\n",
    "            if b['check'] == True:\n",
    "                print(str('Concentration parameter, n = ' + \"{:.1f}\".format(n) + b['sources']['n']))\n",
    "                print(str('Intrinsic axis ratio, q = ' + \"{:.2f}\".format(q) + b['sources']['q']))\n",
    "                print(str('Inclination angle, i = ' + \"{:.1f}\".format(i_degrees) + b['sources']['i']))\n",
    "                print(str('Effective radius, re = ' + \"{:.1f} \".format(re_kpc) + b['sources']['re']))\n",
    "                print(str('Luminosity of the bulge, L = ' + \"{:.1e}\".format(Lb) + b['sources']['re']))\n",
    "                print(str('Distance, D = ' + \"{:.1f}\".format(b['D_Mpc']) + b['sources']['D']))\n",
    "            elif b['check'] == False:\n",
    "                print(\"Sorry, the parameters for your chosen galaxy are not in our library.\")\n",
    "        except KeyError: #aLso print this if the 'check' value was never added to the galaxy.\n",
    "            print(\"Sorry, the parameters for your chosen galaxy are not in our library.\")\n",
    "        display()"
   ]
  },
  {
   "cell_type": "code",
   "execution_count": 18,
   "metadata": {},
   "outputs": [
    {
     "data": {
      "application/vnd.jupyter.widget-view+json": {
       "model_id": "a7d0409c993b44788c26abae4730789e",
       "version_major": 2,
       "version_minor": 0
      },
      "text/plain": [
       "VBox(children=(Button(description='Reveal!', style=ButtonStyle()), Output()))"
      ]
     },
     "metadata": {},
     "output_type": "display_data"
    }
   ],
   "source": [
    "button.on_click(on_button_clicked)\n",
    "widgets.VBox([button,output])"
   ]
  }
 ],
 "metadata": {
  "kernelspec": {
   "display_name": "galactic-spin",
   "language": "python",
   "name": "galactic-spin"
  },
  "language_info": {
   "codemirror_mode": {
    "name": "ipython",
    "version": 3
   },
   "file_extension": ".py",
   "mimetype": "text/x-python",
   "name": "python",
   "nbconvert_exporter": "python",
   "pygments_lexer": "ipython3",
   "version": "3.7.9"
  }
 },
 "nbformat": 4,
 "nbformat_minor": 4
}
